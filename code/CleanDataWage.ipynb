{
 "cells": [
  {
   "cell_type": "code",
   "execution_count": 405,
   "metadata": {
    "collapsed": true
   },
   "outputs": [],
   "source": [
    "import pandas as pd\n",
    "import numpy as np\n",
    "import re"
   ]
  },
  {
   "cell_type": "code",
   "execution_count": 406,
   "metadata": {},
   "outputs": [
    {
     "data": {
      "text/html": [
       "<div>\n",
       "<style>\n",
       "    .dataframe thead tr:only-child th {\n",
       "        text-align: right;\n",
       "    }\n",
       "\n",
       "    .dataframe thead th {\n",
       "        text-align: left;\n",
       "    }\n",
       "\n",
       "    .dataframe tbody tr th {\n",
       "        vertical-align: top;\n",
       "    }\n",
       "</style>\n",
       "<table border=\"1\" class=\"dataframe\">\n",
       "  <thead>\n",
       "    <tr style=\"text-align: right;\">\n",
       "      <th></th>\n",
       "      <th>Year</th>\n",
       "      <th>State</th>\n",
       "      <th>Table_Data</th>\n",
       "      <th>Footnote</th>\n",
       "      <th>High.Value</th>\n",
       "      <th>Low.Value</th>\n",
       "      <th>CPI.Average</th>\n",
       "      <th>High.2018</th>\n",
       "      <th>Low.2018</th>\n",
       "    </tr>\n",
       "  </thead>\n",
       "  <tbody>\n",
       "    <tr>\n",
       "      <th>0</th>\n",
       "      <td>1968</td>\n",
       "      <td>Alabama</td>\n",
       "      <td>...</td>\n",
       "      <td>NaN</td>\n",
       "      <td>0.00000</td>\n",
       "      <td>0.00000</td>\n",
       "      <td>34.783333</td>\n",
       "      <td>0.00</td>\n",
       "      <td>0.00</td>\n",
       "    </tr>\n",
       "    <tr>\n",
       "      <th>1</th>\n",
       "      <td>1968</td>\n",
       "      <td>Alaska</td>\n",
       "      <td>2.10</td>\n",
       "      <td>NaN</td>\n",
       "      <td>2.10000</td>\n",
       "      <td>2.10000</td>\n",
       "      <td>34.783333</td>\n",
       "      <td>15.12</td>\n",
       "      <td>15.12</td>\n",
       "    </tr>\n",
       "    <tr>\n",
       "      <th>2</th>\n",
       "      <td>1968</td>\n",
       "      <td>Arizona</td>\n",
       "      <td>18.72 - 26.40/wk(b)</td>\n",
       "      <td>(b)</td>\n",
       "      <td>0.66000</td>\n",
       "      <td>0.46800</td>\n",
       "      <td>34.783333</td>\n",
       "      <td>4.75</td>\n",
       "      <td>3.37</td>\n",
       "    </tr>\n",
       "    <tr>\n",
       "      <th>3</th>\n",
       "      <td>1968</td>\n",
       "      <td>Arkansas</td>\n",
       "      <td>1.25/day(b)</td>\n",
       "      <td>(b)</td>\n",
       "      <td>0.15625</td>\n",
       "      <td>0.15625</td>\n",
       "      <td>34.783333</td>\n",
       "      <td>1.12</td>\n",
       "      <td>1.12</td>\n",
       "    </tr>\n",
       "    <tr>\n",
       "      <th>4</th>\n",
       "      <td>1968</td>\n",
       "      <td>California</td>\n",
       "      <td>1.65(b)</td>\n",
       "      <td>(b)</td>\n",
       "      <td>1.65000</td>\n",
       "      <td>1.65000</td>\n",
       "      <td>34.783333</td>\n",
       "      <td>11.88</td>\n",
       "      <td>11.88</td>\n",
       "    </tr>\n",
       "  </tbody>\n",
       "</table>\n",
       "</div>"
      ],
      "text/plain": [
       "   Year       State           Table_Data Footnote  High.Value  Low.Value  \\\n",
       "0  1968     Alabama                  ...      NaN     0.00000    0.00000   \n",
       "1  1968      Alaska                 2.10      NaN     2.10000    2.10000   \n",
       "2  1968     Arizona  18.72 - 26.40/wk(b)      (b)     0.66000    0.46800   \n",
       "3  1968    Arkansas          1.25/day(b)      (b)     0.15625    0.15625   \n",
       "4  1968  California              1.65(b)      (b)     1.65000    1.65000   \n",
       "\n",
       "   CPI.Average  High.2018  Low.2018  \n",
       "0    34.783333       0.00      0.00  \n",
       "1    34.783333      15.12     15.12  \n",
       "2    34.783333       4.75      3.37  \n",
       "3    34.783333       1.12      1.12  \n",
       "4    34.783333      11.88     11.88  "
      ]
     },
     "execution_count": 406,
     "metadata": {},
     "output_type": "execute_result"
    }
   ],
   "source": [
    "# Read in the file with Minimum wage data\n",
    "data = pd.read_csv('Min_Wage_Data.csv')\n",
    "data.head()"
   ]
  },
  {
   "cell_type": "code",
   "execution_count": 407,
   "metadata": {},
   "outputs": [
    {
     "data": {
      "text/html": [
       "<div>\n",
       "<style>\n",
       "    .dataframe thead tr:only-child th {\n",
       "        text-align: right;\n",
       "    }\n",
       "\n",
       "    .dataframe thead th {\n",
       "        text-align: left;\n",
       "    }\n",
       "\n",
       "    .dataframe tbody tr th {\n",
       "        vertical-align: top;\n",
       "    }\n",
       "</style>\n",
       "<table border=\"1\" class=\"dataframe\">\n",
       "  <thead>\n",
       "    <tr style=\"text-align: right;\">\n",
       "      <th></th>\n",
       "      <th>Year</th>\n",
       "      <th>State</th>\n",
       "      <th>High.Value</th>\n",
       "      <th>CPI.Average</th>\n",
       "    </tr>\n",
       "  </thead>\n",
       "  <tbody>\n",
       "    <tr>\n",
       "      <th>0</th>\n",
       "      <td>1968</td>\n",
       "      <td>Alabama</td>\n",
       "      <td>0.00000</td>\n",
       "      <td>34.783333</td>\n",
       "    </tr>\n",
       "    <tr>\n",
       "      <th>1</th>\n",
       "      <td>1968</td>\n",
       "      <td>Alaska</td>\n",
       "      <td>2.10000</td>\n",
       "      <td>34.783333</td>\n",
       "    </tr>\n",
       "    <tr>\n",
       "      <th>2</th>\n",
       "      <td>1968</td>\n",
       "      <td>Arizona</td>\n",
       "      <td>0.66000</td>\n",
       "      <td>34.783333</td>\n",
       "    </tr>\n",
       "    <tr>\n",
       "      <th>3</th>\n",
       "      <td>1968</td>\n",
       "      <td>Arkansas</td>\n",
       "      <td>0.15625</td>\n",
       "      <td>34.783333</td>\n",
       "    </tr>\n",
       "    <tr>\n",
       "      <th>4</th>\n",
       "      <td>1968</td>\n",
       "      <td>California</td>\n",
       "      <td>1.65000</td>\n",
       "      <td>34.783333</td>\n",
       "    </tr>\n",
       "  </tbody>\n",
       "</table>\n",
       "</div>"
      ],
      "text/plain": [
       "   Year       State  High.Value  CPI.Average\n",
       "0  1968     Alabama     0.00000    34.783333\n",
       "1  1968      Alaska     2.10000    34.783333\n",
       "2  1968     Arizona     0.66000    34.783333\n",
       "3  1968    Arkansas     0.15625    34.783333\n",
       "4  1968  California     1.65000    34.783333"
      ]
     },
     "execution_count": 407,
     "metadata": {},
     "output_type": "execute_result"
    }
   ],
   "source": [
    "# Select the columns needed\n",
    "data = data[['Year', 'State', 'High.Value', 'CPI.Average']]\n",
    "data.head()"
   ]
  },
  {
   "cell_type": "code",
   "execution_count": 408,
   "metadata": {},
   "outputs": [
    {
     "name": "stdout",
     "output_type": "stream",
     "text": [
      "['Alabama' 'Alaska' 'Arizona' 'Arkansas' 'California' 'Colorado'\n",
      " 'Connecticut' 'Delaware' 'District of Columbia' 'Federal (FLSA)' 'Florida'\n",
      " 'Georgia' 'Guam' 'Hawaii' 'Idaho' 'Illinois' 'Indiana' 'Iowa' 'Kansas'\n",
      " 'Kentucky' 'Louisiana' 'Maine' 'Maryland' 'Massachusetts' 'Michigan'\n",
      " 'Minnesota' 'Mississippi' 'Missouri' 'Montana' 'Nebraska' 'Nevada'\n",
      " 'New Hampshire' 'New Jersey' 'New Mexico' 'New York' 'North Carolina'\n",
      " 'North Dakota' 'Ohio' 'Oklahoma' 'Oregon' 'Pennsylvania' 'Puerto Rico'\n",
      " 'Rhode Island' 'South Carolina' 'South Dakota' 'Tennessee' 'Texas'\n",
      " 'U.S. Virgin Islands' 'Utah' 'Vermont' 'Virginia' 'Washington'\n",
      " 'West Virginia' 'Wisconsin' 'Wyoming']\n"
     ]
    }
   ],
   "source": [
    "print data.State.unique()"
   ]
  },
  {
   "cell_type": "code",
   "execution_count": 409,
   "metadata": {},
   "outputs": [
    {
     "data": {
      "text/html": [
       "<div>\n",
       "<style>\n",
       "    .dataframe thead tr:only-child th {\n",
       "        text-align: right;\n",
       "    }\n",
       "\n",
       "    .dataframe thead th {\n",
       "        text-align: left;\n",
       "    }\n",
       "\n",
       "    .dataframe tbody tr th {\n",
       "        vertical-align: top;\n",
       "    }\n",
       "</style>\n",
       "<table border=\"1\" class=\"dataframe\">\n",
       "  <thead>\n",
       "    <tr style=\"text-align: right;\">\n",
       "      <th></th>\n",
       "      <th>Year</th>\n",
       "      <th>State</th>\n",
       "      <th>Min_Wage</th>\n",
       "      <th>CPI</th>\n",
       "    </tr>\n",
       "  </thead>\n",
       "  <tbody>\n",
       "    <tr>\n",
       "      <th>0</th>\n",
       "      <td>2007</td>\n",
       "      <td>Alabama</td>\n",
       "      <td>0.00</td>\n",
       "      <td>207.342417</td>\n",
       "    </tr>\n",
       "    <tr>\n",
       "      <th>1</th>\n",
       "      <td>2007</td>\n",
       "      <td>Alaska</td>\n",
       "      <td>7.15</td>\n",
       "      <td>207.342417</td>\n",
       "    </tr>\n",
       "    <tr>\n",
       "      <th>2</th>\n",
       "      <td>2007</td>\n",
       "      <td>Arizona</td>\n",
       "      <td>6.75</td>\n",
       "      <td>207.342417</td>\n",
       "    </tr>\n",
       "    <tr>\n",
       "      <th>3</th>\n",
       "      <td>2007</td>\n",
       "      <td>Arkansas</td>\n",
       "      <td>6.25</td>\n",
       "      <td>207.342417</td>\n",
       "    </tr>\n",
       "    <tr>\n",
       "      <th>4</th>\n",
       "      <td>2007</td>\n",
       "      <td>California</td>\n",
       "      <td>7.50</td>\n",
       "      <td>207.342417</td>\n",
       "    </tr>\n",
       "  </tbody>\n",
       "</table>\n",
       "</div>"
      ],
      "text/plain": [
       "   Year       State  Min_Wage         CPI\n",
       "0  2007     Alabama      0.00  207.342417\n",
       "1  2007      Alaska      7.15  207.342417\n",
       "2  2007     Arizona      6.75  207.342417\n",
       "3  2007    Arkansas      6.25  207.342417\n",
       "4  2007  California      7.50  207.342417"
      ]
     },
     "execution_count": 409,
     "metadata": {},
     "output_type": "execute_result"
    }
   ],
   "source": [
    "# Select only years from 2007 to 2017\n",
    "years = list(range(2007, 2018))\n",
    "rows = [i for i in data.index if data.Year[i] in years]\n",
    "\n",
    "data.set_index('Year')\n",
    "\n",
    "wage_data = data.loc[rows].reset_index().drop('index', axis=1)\n",
    "wage_data.columns = ['Year', 'State', 'Min_Wage', 'CPI']\n",
    "wage_data.head()"
   ]
  },
  {
   "cell_type": "code",
   "execution_count": 410,
   "metadata": {},
   "outputs": [
    {
     "data": {
      "text/plain": [
       "{2007: 5.1500000000000004,\n",
       " 2008: 5.8499999999999996,\n",
       " 2009: 6.5499999999999998,\n",
       " 2010: 7.25,\n",
       " 2011: 7.25,\n",
       " 2012: 7.25,\n",
       " 2013: 7.25,\n",
       " 2014: 7.25,\n",
       " 2015: 7.25,\n",
       " 2016: 7.25,\n",
       " 2017: 7.25}"
      ]
     },
     "execution_count": 410,
     "metadata": {},
     "output_type": "execute_result"
    }
   ],
   "source": [
    "# Create a dictionary with the federal minimum wage to be used for filling in missing values \n",
    "fed = {}\n",
    "fed_data = wage_data[wage_data.State=='Federal (FLSA)']\n",
    "fed_data = fed_data[['Year', 'Min_Wage']]\n",
    "\n",
    "for i in fed_data.index:\n",
    "    fed[fed_data.Year[i]] = fed_data.Min_Wage[i]\n",
    "\n",
    "fed"
   ]
  },
  {
   "cell_type": "code",
   "execution_count": null,
   "metadata": {},
   "outputs": [],
   "source": []
  },
  {
   "cell_type": "code",
   "execution_count": 416,
   "metadata": {},
   "outputs": [
    {
     "data": {
      "text/html": [
       "<div>\n",
       "<style>\n",
       "    .dataframe thead tr:only-child th {\n",
       "        text-align: right;\n",
       "    }\n",
       "\n",
       "    .dataframe thead th {\n",
       "        text-align: left;\n",
       "    }\n",
       "\n",
       "    .dataframe tbody tr th {\n",
       "        vertical-align: top;\n",
       "    }\n",
       "</style>\n",
       "<table border=\"1\" class=\"dataframe\">\n",
       "  <thead>\n",
       "    <tr style=\"text-align: right;\">\n",
       "      <th></th>\n",
       "      <th>State</th>\n",
       "      <th>Year</th>\n",
       "      <th>Min_Wage</th>\n",
       "      <th>CPI</th>\n",
       "    </tr>\n",
       "  </thead>\n",
       "  <tbody>\n",
       "    <tr>\n",
       "      <th>0</th>\n",
       "      <td>Alabama</td>\n",
       "      <td>2007</td>\n",
       "      <td>5.15</td>\n",
       "      <td>207.342417</td>\n",
       "    </tr>\n",
       "    <tr>\n",
       "      <th>1</th>\n",
       "      <td>Alaska</td>\n",
       "      <td>2007</td>\n",
       "      <td>7.15</td>\n",
       "      <td>207.342417</td>\n",
       "    </tr>\n",
       "    <tr>\n",
       "      <th>2</th>\n",
       "      <td>Arizona</td>\n",
       "      <td>2007</td>\n",
       "      <td>6.75</td>\n",
       "      <td>207.342417</td>\n",
       "    </tr>\n",
       "    <tr>\n",
       "      <th>3</th>\n",
       "      <td>Arkansas</td>\n",
       "      <td>2007</td>\n",
       "      <td>6.25</td>\n",
       "      <td>207.342417</td>\n",
       "    </tr>\n",
       "    <tr>\n",
       "      <th>4</th>\n",
       "      <td>California</td>\n",
       "      <td>2007</td>\n",
       "      <td>7.50</td>\n",
       "      <td>207.342417</td>\n",
       "    </tr>\n",
       "  </tbody>\n",
       "</table>\n",
       "</div>"
      ],
      "text/plain": [
       "        State  Year  Min_Wage         CPI\n",
       "0     Alabama  2007      5.15  207.342417\n",
       "1      Alaska  2007      7.15  207.342417\n",
       "2     Arizona  2007      6.75  207.342417\n",
       "3    Arkansas  2007      6.25  207.342417\n",
       "4  California  2007      7.50  207.342417"
      ]
     },
     "execution_count": 416,
     "metadata": {},
     "output_type": "execute_result"
    }
   ],
   "source": [
    "# For any minimum wage values that are zero, fill in with the federal value\n",
    "for i in wage_data.index:\n",
    "    year = wage_data.Year[i]\n",
    "    if wage_data.Min_Wage[i]==0:\n",
    "        wage_data.Min_Wage[i] = fed[year]\n",
    "        \n",
    "wage_data.head()"
   ]
  },
  {
   "cell_type": "code",
   "execution_count": 417,
   "metadata": {},
   "outputs": [
    {
     "data": {
      "text/plain": [
       "(561, 4)"
      ]
     },
     "execution_count": 417,
     "metadata": {},
     "output_type": "execute_result"
    }
   ],
   "source": [
    "wage_data.shape"
   ]
  },
  {
   "cell_type": "code",
   "execution_count": 418,
   "metadata": {},
   "outputs": [],
   "source": [
    "# Drop the data for U.S. territories, and the federal data\n",
    "wage_data = wage_data.set_index('State').drop(['Guam','Puerto Rico','U.S. Virgin Islands','Federal (FLSA)'] , axis=0).reset_index()"
   ]
  },
  {
   "cell_type": "code",
   "execution_count": 420,
   "metadata": {},
   "outputs": [
    {
     "data": {
      "text/html": [
       "<div>\n",
       "<style>\n",
       "    .dataframe thead tr:only-child th {\n",
       "        text-align: right;\n",
       "    }\n",
       "\n",
       "    .dataframe thead th {\n",
       "        text-align: left;\n",
       "    }\n",
       "\n",
       "    .dataframe tbody tr th {\n",
       "        vertical-align: top;\n",
       "    }\n",
       "</style>\n",
       "<table border=\"1\" class=\"dataframe\">\n",
       "  <thead>\n",
       "    <tr style=\"text-align: right;\">\n",
       "      <th></th>\n",
       "      <th>State</th>\n",
       "      <th>Year</th>\n",
       "      <th>Min_Wage</th>\n",
       "      <th>CPI</th>\n",
       "    </tr>\n",
       "  </thead>\n",
       "  <tbody>\n",
       "    <tr>\n",
       "      <th>0</th>\n",
       "      <td>Alabama</td>\n",
       "      <td>2007</td>\n",
       "      <td>5.15</td>\n",
       "      <td>207.342417</td>\n",
       "    </tr>\n",
       "    <tr>\n",
       "      <th>1</th>\n",
       "      <td>Alaska</td>\n",
       "      <td>2007</td>\n",
       "      <td>7.15</td>\n",
       "      <td>207.342417</td>\n",
       "    </tr>\n",
       "    <tr>\n",
       "      <th>2</th>\n",
       "      <td>Arizona</td>\n",
       "      <td>2007</td>\n",
       "      <td>6.75</td>\n",
       "      <td>207.342417</td>\n",
       "    </tr>\n",
       "    <tr>\n",
       "      <th>3</th>\n",
       "      <td>Arkansas</td>\n",
       "      <td>2007</td>\n",
       "      <td>6.25</td>\n",
       "      <td>207.342417</td>\n",
       "    </tr>\n",
       "    <tr>\n",
       "      <th>4</th>\n",
       "      <td>California</td>\n",
       "      <td>2007</td>\n",
       "      <td>7.50</td>\n",
       "      <td>207.342417</td>\n",
       "    </tr>\n",
       "  </tbody>\n",
       "</table>\n",
       "</div>"
      ],
      "text/plain": [
       "        State  Year  Min_Wage         CPI\n",
       "0     Alabama  2007      5.15  207.342417\n",
       "1      Alaska  2007      7.15  207.342417\n",
       "2     Arizona  2007      6.75  207.342417\n",
       "3    Arkansas  2007      6.25  207.342417\n",
       "4  California  2007      7.50  207.342417"
      ]
     },
     "execution_count": 420,
     "metadata": {},
     "output_type": "execute_result"
    }
   ],
   "source": [
    "wage_data.head()"
   ]
  },
  {
   "cell_type": "code",
   "execution_count": 424,
   "metadata": {},
   "outputs": [],
   "source": [
    "wage_data.to_csv('Clean_Min_Wage_Data.csv')"
   ]
  },
  {
   "cell_type": "code",
   "execution_count": null,
   "metadata": {},
   "outputs": [],
   "source": []
  },
  {
   "cell_type": "code",
   "execution_count": null,
   "metadata": {},
   "outputs": [],
   "source": []
  },
  {
   "cell_type": "code",
   "execution_count": null,
   "metadata": {},
   "outputs": [],
   "source": []
  },
  {
   "cell_type": "code",
   "execution_count": null,
   "metadata": {
    "collapsed": true
   },
   "outputs": [],
   "source": []
  },
  {
   "cell_type": "code",
   "execution_count": null,
   "metadata": {
    "collapsed": true
   },
   "outputs": [],
   "source": []
  },
  {
   "cell_type": "code",
   "execution_count": null,
   "metadata": {
    "collapsed": true
   },
   "outputs": [],
   "source": []
  },
  {
   "cell_type": "code",
   "execution_count": null,
   "metadata": {
    "collapsed": true
   },
   "outputs": [],
   "source": []
  },
  {
   "cell_type": "code",
   "execution_count": null,
   "metadata": {
    "collapsed": true
   },
   "outputs": [],
   "source": []
  }
 ],
 "metadata": {
  "kernelspec": {
   "display_name": "Python 3",
   "language": "python",
   "name": "python3"
  },
  "language_info": {
   "codemirror_mode": {
    "name": "ipython",
    "version": 3
   },
   "file_extension": ".py",
   "mimetype": "text/x-python",
   "name": "python",
   "nbconvert_exporter": "python",
   "pygments_lexer": "ipython3",
   "version": "3.7.1"
  }
 },
 "nbformat": 4,
 "nbformat_minor": 2
}
