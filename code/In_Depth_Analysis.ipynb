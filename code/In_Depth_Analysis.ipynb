{
 "cells": [
  {
   "cell_type": "code",
   "execution_count": 2,
   "metadata": {},
   "outputs": [],
   "source": [
    "import pandas as pd\n",
    "import numpy as np\n",
    "import matplotlib.pyplot as plt\n",
    "import seaborn as sns\n",
    "from scipy import stats\n",
    "import sklearn\n",
    "\n",
    "import statsmodels.api as sm\n",
    "from sklearn import linear_model\n",
    "from sklearn.model_selection import train_test_split\n",
    "from sklearn.preprocessing import scale, LabelEncoder\n",
    "from sklearn.model_selection import RandomizedSearchCV"
   ]
  },
  {
   "cell_type": "code",
   "execution_count": 3,
   "metadata": {},
   "outputs": [
    {
     "data": {
      "text/html": [
       "<div>\n",
       "<style scoped>\n",
       "    .dataframe tbody tr th:only-of-type {\n",
       "        vertical-align: middle;\n",
       "    }\n",
       "\n",
       "    .dataframe tbody tr th {\n",
       "        vertical-align: top;\n",
       "    }\n",
       "\n",
       "    .dataframe thead th {\n",
       "        text-align: right;\n",
       "    }\n",
       "</style>\n",
       "<table border=\"1\" class=\"dataframe\">\n",
       "  <thead>\n",
       "    <tr style=\"text-align: right;\">\n",
       "      <th></th>\n",
       "      <th>Year</th>\n",
       "      <th>UnemploymentRate</th>\n",
       "      <th>Change</th>\n",
       "      <th>LHS</th>\n",
       "      <th>HS</th>\n",
       "      <th>SC</th>\n",
       "      <th>BD</th>\n",
       "      <th>Pop_Est</th>\n",
       "      <th>MedianIncome</th>\n",
       "      <th>RegionCode</th>\n",
       "      <th>AreaCode</th>\n",
       "      <th>Min_Wage</th>\n",
       "      <th>CPI</th>\n",
       "    </tr>\n",
       "  </thead>\n",
       "  <tbody>\n",
       "    <tr>\n",
       "      <th>0</th>\n",
       "      <td>2007</td>\n",
       "      <td>4.0</td>\n",
       "      <td>0.0</td>\n",
       "      <td>15.2</td>\n",
       "      <td>31.0</td>\n",
       "      <td>29.8</td>\n",
       "      <td>24.0</td>\n",
       "      <td>4737752</td>\n",
       "      <td>42212.0</td>\n",
       "      <td>2</td>\n",
       "      <td>9</td>\n",
       "      <td>5.15</td>\n",
       "      <td>207.342417</td>\n",
       "    </tr>\n",
       "    <tr>\n",
       "      <th>1</th>\n",
       "      <td>2008</td>\n",
       "      <td>5.7</td>\n",
       "      <td>1.7</td>\n",
       "      <td>15.2</td>\n",
       "      <td>31.0</td>\n",
       "      <td>29.8</td>\n",
       "      <td>24.0</td>\n",
       "      <td>4752904</td>\n",
       "      <td>44476.0</td>\n",
       "      <td>2</td>\n",
       "      <td>9</td>\n",
       "      <td>5.85</td>\n",
       "      <td>215.302500</td>\n",
       "    </tr>\n",
       "    <tr>\n",
       "      <th>2</th>\n",
       "      <td>2009</td>\n",
       "      <td>11.0</td>\n",
       "      <td>5.3</td>\n",
       "      <td>15.2</td>\n",
       "      <td>31.0</td>\n",
       "      <td>29.8</td>\n",
       "      <td>24.0</td>\n",
       "      <td>4768103</td>\n",
       "      <td>39980.0</td>\n",
       "      <td>2</td>\n",
       "      <td>9</td>\n",
       "      <td>6.55</td>\n",
       "      <td>214.537000</td>\n",
       "    </tr>\n",
       "    <tr>\n",
       "      <th>3</th>\n",
       "      <td>2010</td>\n",
       "      <td>10.5</td>\n",
       "      <td>-0.5</td>\n",
       "      <td>15.2</td>\n",
       "      <td>31.0</td>\n",
       "      <td>29.8</td>\n",
       "      <td>24.0</td>\n",
       "      <td>4783352</td>\n",
       "      <td>40933.0</td>\n",
       "      <td>2</td>\n",
       "      <td>9</td>\n",
       "      <td>7.25</td>\n",
       "      <td>218.055500</td>\n",
       "    </tr>\n",
       "    <tr>\n",
       "      <th>4</th>\n",
       "      <td>2011</td>\n",
       "      <td>9.6</td>\n",
       "      <td>-0.9</td>\n",
       "      <td>15.2</td>\n",
       "      <td>31.0</td>\n",
       "      <td>29.8</td>\n",
       "      <td>24.0</td>\n",
       "      <td>4798649</td>\n",
       "      <td>42590.0</td>\n",
       "      <td>2</td>\n",
       "      <td>9</td>\n",
       "      <td>7.25</td>\n",
       "      <td>224.939167</td>\n",
       "    </tr>\n",
       "  </tbody>\n",
       "</table>\n",
       "</div>"
      ],
      "text/plain": [
       "   Year  UnemploymentRate  Change   LHS    HS    SC    BD  Pop_Est  \\\n",
       "0  2007               4.0     0.0  15.2  31.0  29.8  24.0  4737752   \n",
       "1  2008               5.7     1.7  15.2  31.0  29.8  24.0  4752904   \n",
       "2  2009              11.0     5.3  15.2  31.0  29.8  24.0  4768103   \n",
       "3  2010              10.5    -0.5  15.2  31.0  29.8  24.0  4783352   \n",
       "4  2011               9.6    -0.9  15.2  31.0  29.8  24.0  4798649   \n",
       "\n",
       "   MedianIncome  RegionCode  AreaCode  Min_Wage         CPI  \n",
       "0       42212.0           2         9      5.15  207.342417  \n",
       "1       44476.0           2         9      5.85  215.302500  \n",
       "2       39980.0           2         9      6.55  214.537000  \n",
       "3       40933.0           2         9      7.25  218.055500  \n",
       "4       42590.0           2         9      7.25  224.939167  "
      ]
     },
     "execution_count": 3,
     "metadata": {},
     "output_type": "execute_result"
    }
   ],
   "source": [
    "data = pd.read_csv('FinalData2.csv').drop(['Unnamed: 0'], axis=1).drop_duplicates()\n",
    "# Drop the categorical variables and rows with Pop_Est=0\n",
    "rows = [i for i in data.index if data.Pop_Est[i]!=0]\n",
    "\n",
    "df = data.loc[rows].drop(['State', 'Area', 'Region', 'StateCode'], axis=1)\n",
    "df.head()"
   ]
  },
  {
   "cell_type": "markdown",
   "metadata": {},
   "source": [
    "### Since some of the population estimates are for the entire state and some are for individual counties, I will take the log of these values."
   ]
  },
  {
   "cell_type": "code",
   "execution_count": 4,
   "metadata": {},
   "outputs": [],
   "source": [
    "# Take the log of the population estimate\n",
    "df['Log_pop'] = np.log(df.Pop_Est)"
   ]
  },
  {
   "cell_type": "code",
   "execution_count": 5,
   "metadata": {},
   "outputs": [],
   "source": [
    "from sklearn.decomposition import PCA\n",
    "from sklearn.metrics import mean_absolute_error, mean_squared_error\n",
    "from sklearn.preprocessing import MinMaxScaler"
   ]
  },
  {
   "cell_type": "markdown",
   "metadata": {},
   "source": [
    "### The education variables are correlated with each other, so I will use PCA to reduce the dimensions. We can look at the explained variance of each PCA features to determine how many features to keep."
   ]
  },
  {
   "cell_type": "code",
   "execution_count": 6,
   "metadata": {},
   "outputs": [
    {
     "data": {
      "image/png": "[encoded data removed]",
      "text/plain": [
       "<Figure size 432x288 with 1 Axes>"
      ]
     },
     "metadata": {
      "needs_background": "light"
     },
     "output_type": "display_data"
    }
   ],
   "source": [
    "# Use PCA for dimension reduction\n",
    "X1 = df[['LHS', 'HS', 'SC', 'BD']]\n",
    "\n",
    "pca = PCA()\n",
    "pca.fit(X1)\n",
    "\n",
    "plt.plot(pca.explained_variance_ratio_)\n",
    "plt.xticks(range(0,5))\n",
    "plt.xlabel('Number of Dimensions')\n",
    "plt.ylabel('Explained Variance Ratio')\n",
    "plt.title('Explained Variance of PCA Features')\n",
    "plt.rcParams['figure.figsize']=[8,8]\n",
    "plt.savefig('PCA Features plot')\n",
    "plt.show()"
   ]
  },
  {
   "cell_type": "code",
   "execution_count": 7,
   "metadata": {},
   "outputs": [
    {
     "name": "stdout",
     "output_type": "stream",
     "text": [
      "[66.13 20.46 13.41  0.  ]\n"
     ]
    }
   ],
   "source": [
    "print(np.round(pca.explained_variance_ratio_, decimals=4)*100)"
   ]
  },
  {
   "cell_type": "markdown",
   "metadata": {},
   "source": [
    "### From the plot above, we can see that all the variance is explained by the first three features, so I will not use the fourth feature in the model.\n",
    "\n",
    "### I will add the first three PCA features to the dataframe, and then scale all the variables using the MinMaxScaler."
   ]
  },
  {
   "cell_type": "code",
   "execution_count": 8,
   "metadata": {},
   "outputs": [
    {
     "name": "stderr",
     "output_type": "stream",
     "text": [
      "/anaconda3/lib/python3.7/site-packages/sklearn/preprocessing/data.py:323: DataConversionWarning: Data with input dtype int64, float64 were all converted to float64 by MinMaxScaler.\n",
      "  return self.partial_fit(X, y)\n"
     ]
    },
    {
     "data": {
      "text/html": [
       "<div>\n",
       "<style scoped>\n",
       "    .dataframe tbody tr th:only-of-type {\n",
       "        vertical-align: middle;\n",
       "    }\n",
       "\n",
       "    .dataframe tbody tr th {\n",
       "        vertical-align: top;\n",
       "    }\n",
       "\n",
       "    .dataframe thead th {\n",
       "        text-align: right;\n",
       "    }\n",
       "</style>\n",
       "<table border=\"1\" class=\"dataframe\">\n",
       "  <thead>\n",
       "    <tr style=\"text-align: right;\">\n",
       "      <th></th>\n",
       "      <th>Year</th>\n",
       "      <th>UnemploymentRate</th>\n",
       "      <th>Change</th>\n",
       "      <th>LHS</th>\n",
       "      <th>HS</th>\n",
       "      <th>SC</th>\n",
       "      <th>BD</th>\n",
       "      <th>Pop_Est</th>\n",
       "      <th>MedianIncome</th>\n",
       "      <th>RegionCode</th>\n",
       "      <th>AreaCode</th>\n",
       "      <th>Min_Wage</th>\n",
       "      <th>CPI</th>\n",
       "      <th>Log_pop</th>\n",
       "      <th>PCA1</th>\n",
       "      <th>PCA2</th>\n",
       "      <th>PCA3</th>\n",
       "    </tr>\n",
       "  </thead>\n",
       "  <tbody>\n",
       "    <tr>\n",
       "      <th>0</th>\n",
       "      <td>0.0</td>\n",
       "      <td>0.104317</td>\n",
       "      <td>0.413793</td>\n",
       "      <td>0.276892</td>\n",
       "      <td>0.509356</td>\n",
       "      <td>0.512465</td>\n",
       "      <td>0.272021</td>\n",
       "      <td>0.119830</td>\n",
       "      <td>0.147690</td>\n",
       "      <td>0.75</td>\n",
       "      <td>0.004717</td>\n",
       "      <td>0.282486</td>\n",
       "      <td>0.000000</td>\n",
       "      <td>0.837276</td>\n",
       "      <td>0.343985</td>\n",
       "      <td>0.364978</td>\n",
       "      <td>0.444858</td>\n",
       "    </tr>\n",
       "    <tr>\n",
       "      <th>1</th>\n",
       "      <td>0.1</td>\n",
       "      <td>0.165468</td>\n",
       "      <td>0.487069</td>\n",
       "      <td>0.276892</td>\n",
       "      <td>0.509356</td>\n",
       "      <td>0.512465</td>\n",
       "      <td>0.272021</td>\n",
       "      <td>0.120213</td>\n",
       "      <td>0.194559</td>\n",
       "      <td>0.75</td>\n",
       "      <td>0.004717</td>\n",
       "      <td>0.361582</td>\n",
       "      <td>0.210711</td>\n",
       "      <td>0.837520</td>\n",
       "      <td>0.343985</td>\n",
       "      <td>0.364978</td>\n",
       "      <td>0.444858</td>\n",
       "    </tr>\n",
       "    <tr>\n",
       "      <th>2</th>\n",
       "      <td>0.2</td>\n",
       "      <td>0.356115</td>\n",
       "      <td>0.642241</td>\n",
       "      <td>0.276892</td>\n",
       "      <td>0.509356</td>\n",
       "      <td>0.512465</td>\n",
       "      <td>0.272021</td>\n",
       "      <td>0.120598</td>\n",
       "      <td>0.101482</td>\n",
       "      <td>0.75</td>\n",
       "      <td>0.004717</td>\n",
       "      <td>0.440678</td>\n",
       "      <td>0.190448</td>\n",
       "      <td>0.837765</td>\n",
       "      <td>0.343985</td>\n",
       "      <td>0.364978</td>\n",
       "      <td>0.444858</td>\n",
       "    </tr>\n",
       "    <tr>\n",
       "      <th>3</th>\n",
       "      <td>0.3</td>\n",
       "      <td>0.338129</td>\n",
       "      <td>0.392241</td>\n",
       "      <td>0.276892</td>\n",
       "      <td>0.509356</td>\n",
       "      <td>0.512465</td>\n",
       "      <td>0.272021</td>\n",
       "      <td>0.120983</td>\n",
       "      <td>0.121211</td>\n",
       "      <td>0.75</td>\n",
       "      <td>0.004717</td>\n",
       "      <td>0.519774</td>\n",
       "      <td>0.283586</td>\n",
       "      <td>0.838010</td>\n",
       "      <td>0.343985</td>\n",
       "      <td>0.364978</td>\n",
       "      <td>0.444858</td>\n",
       "    </tr>\n",
       "    <tr>\n",
       "      <th>4</th>\n",
       "      <td>0.4</td>\n",
       "      <td>0.305755</td>\n",
       "      <td>0.375000</td>\n",
       "      <td>0.276892</td>\n",
       "      <td>0.509356</td>\n",
       "      <td>0.512465</td>\n",
       "      <td>0.272021</td>\n",
       "      <td>0.121370</td>\n",
       "      <td>0.155515</td>\n",
       "      <td>0.75</td>\n",
       "      <td>0.004717</td>\n",
       "      <td>0.519774</td>\n",
       "      <td>0.465804</td>\n",
       "      <td>0.838255</td>\n",
       "      <td>0.343985</td>\n",
       "      <td>0.364978</td>\n",
       "      <td>0.444858</td>\n",
       "    </tr>\n",
       "  </tbody>\n",
       "</table>\n",
       "</div>"
      ],
      "text/plain": [
       "   Year  UnemploymentRate    Change       LHS        HS        SC        BD  \\\n",
       "0   0.0          0.104317  0.413793  0.276892  0.509356  0.512465  0.272021   \n",
       "1   0.1          0.165468  0.487069  0.276892  0.509356  0.512465  0.272021   \n",
       "2   0.2          0.356115  0.642241  0.276892  0.509356  0.512465  0.272021   \n",
       "3   0.3          0.338129  0.392241  0.276892  0.509356  0.512465  0.272021   \n",
       "4   0.4          0.305755  0.375000  0.276892  0.509356  0.512465  0.272021   \n",
       "\n",
       "    Pop_Est  MedianIncome  RegionCode  AreaCode  Min_Wage       CPI   Log_pop  \\\n",
       "0  0.119830      0.147690        0.75  0.004717  0.282486  0.000000  0.837276   \n",
       "1  0.120213      0.194559        0.75  0.004717  0.361582  0.210711  0.837520   \n",
       "2  0.120598      0.101482        0.75  0.004717  0.440678  0.190448  0.837765   \n",
       "3  0.120983      0.121211        0.75  0.004717  0.519774  0.283586  0.838010   \n",
       "4  0.121370      0.155515        0.75  0.004717  0.519774  0.465804  0.838255   \n",
       "\n",
       "       PCA1      PCA2      PCA3  \n",
       "0  0.343985  0.364978  0.444858  \n",
       "1  0.343985  0.364978  0.444858  \n",
       "2  0.343985  0.364978  0.444858  \n",
       "3  0.343985  0.364978  0.444858  \n",
       "4  0.343985  0.364978  0.444858  "
      ]
     },
     "execution_count": 8,
     "metadata": {},
     "output_type": "execute_result"
    }
   ],
   "source": [
    "transformed = pca.fit_transform(X1)\n",
    "# Add the transformed features to the dataframe\n",
    "df['PCA1'] = transformed[:,0]\n",
    "df['PCA2'] = transformed[:,1]\n",
    "df['PCA3'] = transformed[:,2]\n",
    " \n",
    "# Scale all the values\n",
    "scaler = MinMaxScaler()\n",
    "df2 = pd.DataFrame(scaler.fit_transform(df))\n",
    "\n",
    "df2.columns = df.columns\n",
    "df2.head()"
   ]
  },
  {
   "cell_type": "markdown",
   "metadata": {},
   "source": [
    "### Next I will fit a  linear model to the data, and calculate the mean absolute error. This will be used as a baseline to compare the results of other models. "
   ]
  },
  {
   "cell_type": "code",
   "execution_count": 9,
   "metadata": {},
   "outputs": [
    {
     "name": "stdout",
     "output_type": "stream",
     "text": [
      "The accuracy for the training data is: 0.3026638188518773\n",
      "The accuracy for the test data is: 0.30768443524802536\n",
      "The mean absolute error is: 0.06891652559001245\n"
     ]
    }
   ],
   "source": [
    "# Drop the target values, and features that are not needed\n",
    "X = df2.drop(['UnemploymentRate', 'LHS', 'HS', 'SC', 'BD', 'Pop_Est', 'RegionCode'], axis=1)\n",
    "y = df2.UnemploymentRate\n",
    "features = X.columns\n",
    "\n",
    "# Split the data into training and test sets\n",
    "X_train, X_test, y_train, y_test = train_test_split(X, y, test_size=0.3, random_state=10)\n",
    "\n",
    "# Instantiate the linear model, and fit it to the training data\n",
    "model = linear_model.LinearRegression()\n",
    "model.fit(X_train, y_train)\n",
    "\n",
    "# Test the model on the test set\n",
    "y_pred = model.predict(X_test)\n",
    "\n",
    "print('The accuracy for the training data is: {}'.format(model.score(X_train, y_train)))\n",
    "print('The accuracy for the test data is: {}'.format(model.score(X_test, y_test)))\n",
    "\n",
    "print('The mean absolute error is: {}'.format(mean_absolute_error(y_pred, y_test, multioutput = 'uniform_average')))\n"
   ]
  },
  {
   "cell_type": "code",
   "execution_count": 10,
   "metadata": {},
   "outputs": [
    {
     "name": "stdout",
     "output_type": "stream",
     "text": [
      "                            OLS Regression Results                            \n",
      "==============================================================================\n",
      "Dep. Variable:       UnemploymentRate   R-squared:                       0.251\n",
      "Model:                            OLS   Adj. R-squared:                  0.250\n",
      "Method:                 Least Squares   F-statistic:                     1458.\n",
      "Date:                Sat, 09 Feb 2019   Prob (F-statistic):               0.00\n",
      "Time:                        20:20:55   Log-Likelihood:                -82537.\n",
      "No. Observations:               34898   AIC:                         1.651e+05\n",
      "Df Residuals:                   34889   BIC:                         1.652e+05\n",
      "Df Model:                           8                                         \n",
      "Covariance Type:            nonrobust                                         \n",
      "================================================================================\n",
      "                   coef    std err          t      P>|t|      [0.025      0.975]\n",
      "--------------------------------------------------------------------------------\n",
      "Intercept       68.1393     10.901      6.251      0.000      46.773      89.506\n",
      "Year            -0.0307      0.005     -5.648      0.000      -0.041      -0.020\n",
      "Change           0.4266      0.011     40.115      0.000       0.406       0.447\n",
      "MedianIncome -7.128e-05   2.08e-06    -34.349      0.000   -7.53e-05   -6.72e-05\n",
      "RegionCode       0.3428      0.013     25.571      0.000       0.317       0.369\n",
      "AreaCode      5.909e-05   2.58e-05      2.294      0.022    8.61e-06       0.000\n",
      "Log_pop          0.3517      0.010     35.905      0.000       0.332       0.371\n",
      "PCA1            -0.0818      0.002    -52.988      0.000      -0.085      -0.079\n",
      "PCA2             0.0283      0.003     10.940      0.000       0.023       0.033\n",
      "==============================================================================\n",
      "Omnibus:                     6168.646   Durbin-Watson:                   0.285\n",
      "Prob(Omnibus):                  0.000   Jarque-Bera (JB):            13358.797\n",
      "Skew:                           1.038   Prob(JB):                         0.00\n",
      "Kurtosis:                       5.208   Cond. No.                     4.12e+07\n",
      "==============================================================================\n",
      "\n",
      "Warnings:\n",
      "[1] Standard Errors assume that the covariance matrix of the errors is correctly specified.\n",
      "[2] The condition number is large, 4.12e+07. This might indicate that there are\n",
      "strong multicollinearity or other numerical problems.\n"
     ]
    }
   ],
   "source": [
    "# Use stats models to fit a linear model and print the summary\n",
    "from statsmodels.formula.api import ols\n",
    "\n",
    "lin_model = ols('UnemploymentRate ~ Year+Change+MedianIncome+RegionCode+AreaCode+Log_pop+PCA1+PCA2', data=df).fit()\n",
    "print(lin_model.summary())"
   ]
  },
  {
   "cell_type": "code",
   "execution_count": 11,
   "metadata": {},
   "outputs": [
    {
     "data": {
      "image/png": "[encoded data removed]",
      "text/plain": [
       "<Figure size 576x576 with 1 Axes>"
      ]
     },
     "metadata": {
      "needs_background": "light"
     },
     "output_type": "display_data"
    }
   ],
   "source": [
    "sm.qqplot(lin_model.resid, fit=True, line='45')\n",
    "plt.rcParams['figure.figsize']=[8,8]\n",
    "plt.show()"
   ]
  },
  {
   "cell_type": "markdown",
   "metadata": {},
   "source": [
    "### With the linear model, the mean absolute error is about 0.07. Now I will try several other algorithms to try to improve the model. The first one I will use is XGBoost, a tree based model that is know to be fast and very accurate."
   ]
  },
  {
   "cell_type": "markdown",
   "metadata": {},
   "source": [
    "## XGBoost"
   ]
  },
  {
   "cell_type": "code",
   "execution_count": 12,
   "metadata": {},
   "outputs": [],
   "source": [
    "import xgboost as xgb\n",
    "\n",
    "# Split the data into training and test sets, using 30 percent of the data for the test set. \n",
    "X_train, X_test, y_train, y_test = train_test_split(X, y, test_size=0.3, random_state=10)"
   ]
  },
  {
   "cell_type": "code",
   "execution_count": 13,
   "metadata": {},
   "outputs": [
    {
     "name": "stdout",
     "output_type": "stream",
     "text": [
      "The mean absolute error is: 0.024801755027798748\n"
     ]
    }
   ],
   "source": [
    "# Instantiate the model and fit it to the training data\n",
    "xg_reg=xgb.XGBRegressor(Objective='reg:linear',seed=20,colsample_bytree=0.8,learning_rate=0.3,max_depth=6,\n",
    "                        n_estimators=500)\n",
    "\n",
    "xg_reg.fit(X_train, y_train)\n",
    "pred = xg_reg.predict(X_test)\n",
    "\n",
    "print('The mean absolute error is: {}'.format(mean_absolute_error(pred, y_test)))"
   ]
  },
  {
   "cell_type": "markdown",
   "metadata": {},
   "source": [
    "### This model is significantly better than the linear model, with a mean absolute error of 0.029. Next I will use a randomized search to tune the hyperparameters, and hopefully get an even better model. "
   ]
  },
  {
   "cell_type": "code",
   "execution_count": 14,
   "metadata": {},
   "outputs": [
    {
     "name": "stdout",
     "output_type": "stream",
     "text": [
      "{'colsample_bytree': 0.7646588604847734, 'learning_rate': 0.1895427455818836, 'max_depth': 8, 'min_child_weight': 3, 'n_estimators': 793}\n",
      "CPU times: user 34min 26s, sys: 14.4 s, total: 34min 40s\n",
      "Wall time: 36min\n"
     ]
    }
   ],
   "source": [
    "%%time\n",
    "# Use a randomized search to select the best values for the hyperparameters\n",
    "\n",
    "params = {'n_estimators': stats.randint(400,1000), \n",
    "         'learning_rate': stats.uniform(0.01, 0.2), \n",
    "         'max_depth': [4, 5, 6, 7, 8, 9, 10],\n",
    "         'colsample_bytree': stats.uniform(0.5, 0.45), \n",
    "         'min_child_weight': [1, 2, 3, 4]\n",
    "         }\n",
    "\n",
    "n_iter_search=20\n",
    "\n",
    "reg = xgb.XGBRegressor(Objective='reg:linear')\n",
    "\n",
    "randomSearchModel = RandomizedSearchCV(reg, param_distributions=params, n_iter=n_iter_search, \n",
    "                                       scoring='neg_mean_absolute_error', refit=True, random_state=20, cv=5)\n",
    "# Fit the model to the training data\n",
    "randomSearchModel.fit(X_train, y_train)\n",
    "\n",
    "optimal_params = randomSearchModel.best_params_\n",
    "print(optimal_params)"
   ]
  },
  {
   "cell_type": "code",
   "execution_count": 15,
   "metadata": {},
   "outputs": [
    {
     "name": "stdout",
     "output_type": "stream",
     "text": [
      "0.02305079564677123\n"
     ]
    }
   ],
   "source": [
    "pred = randomSearchModel.predict(X_test)\n",
    "print(mean_absolute_error(pred, y_test))"
   ]
  },
  {
   "cell_type": "markdown",
   "metadata": {},
   "source": [
    "### By tuning the hyperparameters, I was able to improve the model even more. We get a mean absolute error of 0.023. "
   ]
  },
  {
   "cell_type": "code",
   "execution_count": 16,
   "metadata": {},
   "outputs": [
    {
     "data": {
      "text/plain": [
       "XGBRegressor(Objective='reg:linear', base_score=0.5, booster='gbtree',\n",
       "       colsample_bylevel=1, colsample_bytree=0.7646588604847734, gamma=0,\n",
       "       learning_rate=0.1895427455818836, max_delta_step=0, max_depth=8,\n",
       "       min_child_weight=3, missing=None, n_estimators=793, n_jobs=1,\n",
       "       nthread=None, objective='reg:linear', random_state=0, reg_alpha=0,\n",
       "       reg_lambda=1, scale_pos_weight=1, seed=20, silent=True, subsample=1)"
      ]
     },
     "execution_count": 16,
     "metadata": {},
     "output_type": "execute_result"
    }
   ],
   "source": [
    "xgb_model = xgb.XGBRegressor(Objective='reg:linear', seed=20, \n",
    "                             colsample_bytree = optimal_params['colsample_bytree'],\n",
    "                            learning_rate = optimal_params['learning_rate'],\n",
    "                            max_depth = optimal_params['max_depth'],\n",
    "                            min_child_weight = optimal_params['min_child_weight'],\n",
    "                            n_estimators = optimal_params['n_estimators'])\n",
    "\n",
    "xgb_model.fit(X_train, y_train)"
   ]
  },
  {
   "cell_type": "code",
   "execution_count": 17,
   "metadata": {},
   "outputs": [
    {
     "data": {
      "image/png": "[encoded data removed]",
      "text/plain": [
       "<Figure size 576x576 with 1 Axes>"
      ]
     },
     "metadata": {
      "needs_background": "light"
     },
     "output_type": "display_data"
    }
   ],
   "source": [
    "# Plot the importance of the features used in the model\n",
    "xgb.plot_importance(xgb_model)\n",
    "plt.rcParams['figure.figsize']=[8, 8]\n",
    "plt.savefig('FeatureImportancePlot.png')\n",
    "plt.show()"
   ]
  },
  {
   "cell_type": "markdown",
   "metadata": {},
   "source": [
    "### Next I will use CatBoost, another machine learning algorithm, to try to construct a better model. "
   ]
  },
  {
   "cell_type": "code",
   "execution_count": 18,
   "metadata": {},
   "outputs": [],
   "source": [
    "from catboost import CatBoostRegressor\n",
    "cb_model = CatBoostRegressor(iterations=100, learning_rate=0.35, depth=8, loss_function='MAE')"
   ]
  },
  {
   "cell_type": "code",
   "execution_count": 19,
   "metadata": {},
   "outputs": [
    {
     "name": "stderr",
     "output_type": "stream",
     "text": [
      "/anaconda3/lib/python3.7/site-packages/sklearn/preprocessing/data.py:323: DataConversionWarning: Data with input dtype int64, float64 were all converted to float64 by MinMaxScaler.\n",
      "  return self.partial_fit(X, y)\n"
     ]
    },
    {
     "data": {
      "text/html": [
       "<div>\n",
       "<style scoped>\n",
       "    .dataframe tbody tr th:only-of-type {\n",
       "        vertical-align: middle;\n",
       "    }\n",
       "\n",
       "    .dataframe tbody tr th {\n",
       "        vertical-align: top;\n",
       "    }\n",
       "\n",
       "    .dataframe thead th {\n",
       "        text-align: right;\n",
       "    }\n",
       "</style>\n",
       "<table border=\"1\" class=\"dataframe\">\n",
       "  <thead>\n",
       "    <tr style=\"text-align: right;\">\n",
       "      <th></th>\n",
       "      <th>Year</th>\n",
       "      <th>UnemploymentRate</th>\n",
       "      <th>Change</th>\n",
       "      <th>LHS</th>\n",
       "      <th>HS</th>\n",
       "      <th>SC</th>\n",
       "      <th>BD</th>\n",
       "      <th>Pop_Est</th>\n",
       "      <th>MedianIncome</th>\n",
       "      <th>RegionCode</th>\n",
       "      <th>AreaCode</th>\n",
       "      <th>Min_Wage</th>\n",
       "      <th>CPI</th>\n",
       "      <th>Log_pop</th>\n",
       "      <th>PCA1</th>\n",
       "      <th>PCA2</th>\n",
       "      <th>PCA3</th>\n",
       "    </tr>\n",
       "  </thead>\n",
       "  <tbody>\n",
       "    <tr>\n",
       "      <th>0</th>\n",
       "      <td>0.0</td>\n",
       "      <td>0.104317</td>\n",
       "      <td>0.413793</td>\n",
       "      <td>0.276892</td>\n",
       "      <td>0.509356</td>\n",
       "      <td>0.512465</td>\n",
       "      <td>0.272021</td>\n",
       "      <td>0.119830</td>\n",
       "      <td>0.147690</td>\n",
       "      <td>0.75</td>\n",
       "      <td>0.004717</td>\n",
       "      <td>0.282486</td>\n",
       "      <td>0.000000</td>\n",
       "      <td>0.837276</td>\n",
       "      <td>0.343985</td>\n",
       "      <td>0.364978</td>\n",
       "      <td>0.444858</td>\n",
       "    </tr>\n",
       "    <tr>\n",
       "      <th>1</th>\n",
       "      <td>0.1</td>\n",
       "      <td>0.165468</td>\n",
       "      <td>0.487069</td>\n",
       "      <td>0.276892</td>\n",
       "      <td>0.509356</td>\n",
       "      <td>0.512465</td>\n",
       "      <td>0.272021</td>\n",
       "      <td>0.120213</td>\n",
       "      <td>0.194559</td>\n",
       "      <td>0.75</td>\n",
       "      <td>0.004717</td>\n",
       "      <td>0.361582</td>\n",
       "      <td>0.210711</td>\n",
       "      <td>0.837520</td>\n",
       "      <td>0.343985</td>\n",
       "      <td>0.364978</td>\n",
       "      <td>0.444858</td>\n",
       "    </tr>\n",
       "    <tr>\n",
       "      <th>2</th>\n",
       "      <td>0.2</td>\n",
       "      <td>0.356115</td>\n",
       "      <td>0.642241</td>\n",
       "      <td>0.276892</td>\n",
       "      <td>0.509356</td>\n",
       "      <td>0.512465</td>\n",
       "      <td>0.272021</td>\n",
       "      <td>0.120598</td>\n",
       "      <td>0.101482</td>\n",
       "      <td>0.75</td>\n",
       "      <td>0.004717</td>\n",
       "      <td>0.440678</td>\n",
       "      <td>0.190448</td>\n",
       "      <td>0.837765</td>\n",
       "      <td>0.343985</td>\n",
       "      <td>0.364978</td>\n",
       "      <td>0.444858</td>\n",
       "    </tr>\n",
       "    <tr>\n",
       "      <th>3</th>\n",
       "      <td>0.3</td>\n",
       "      <td>0.338129</td>\n",
       "      <td>0.392241</td>\n",
       "      <td>0.276892</td>\n",
       "      <td>0.509356</td>\n",
       "      <td>0.512465</td>\n",
       "      <td>0.272021</td>\n",
       "      <td>0.120983</td>\n",
       "      <td>0.121211</td>\n",
       "      <td>0.75</td>\n",
       "      <td>0.004717</td>\n",
       "      <td>0.519774</td>\n",
       "      <td>0.283586</td>\n",
       "      <td>0.838010</td>\n",
       "      <td>0.343985</td>\n",
       "      <td>0.364978</td>\n",
       "      <td>0.444858</td>\n",
       "    </tr>\n",
       "    <tr>\n",
       "      <th>4</th>\n",
       "      <td>0.4</td>\n",
       "      <td>0.305755</td>\n",
       "      <td>0.375000</td>\n",
       "      <td>0.276892</td>\n",
       "      <td>0.509356</td>\n",
       "      <td>0.512465</td>\n",
       "      <td>0.272021</td>\n",
       "      <td>0.121370</td>\n",
       "      <td>0.155515</td>\n",
       "      <td>0.75</td>\n",
       "      <td>0.004717</td>\n",
       "      <td>0.519774</td>\n",
       "      <td>0.465804</td>\n",
       "      <td>0.838255</td>\n",
       "      <td>0.343985</td>\n",
       "      <td>0.364978</td>\n",
       "      <td>0.444858</td>\n",
       "    </tr>\n",
       "  </tbody>\n",
       "</table>\n",
       "</div>"
      ],
      "text/plain": [
       "   Year  UnemploymentRate    Change       LHS        HS        SC        BD  \\\n",
       "0   0.0          0.104317  0.413793  0.276892  0.509356  0.512465  0.272021   \n",
       "1   0.1          0.165468  0.487069  0.276892  0.509356  0.512465  0.272021   \n",
       "2   0.2          0.356115  0.642241  0.276892  0.509356  0.512465  0.272021   \n",
       "3   0.3          0.338129  0.392241  0.276892  0.509356  0.512465  0.272021   \n",
       "4   0.4          0.305755  0.375000  0.276892  0.509356  0.512465  0.272021   \n",
       "\n",
       "    Pop_Est  MedianIncome  RegionCode  AreaCode  Min_Wage       CPI   Log_pop  \\\n",
       "0  0.119830      0.147690        0.75  0.004717  0.282486  0.000000  0.837276   \n",
       "1  0.120213      0.194559        0.75  0.004717  0.361582  0.210711  0.837520   \n",
       "2  0.120598      0.101482        0.75  0.004717  0.440678  0.190448  0.837765   \n",
       "3  0.120983      0.121211        0.75  0.004717  0.519774  0.283586  0.838010   \n",
       "4  0.121370      0.155515        0.75  0.004717  0.519774  0.465804  0.838255   \n",
       "\n",
       "       PCA1      PCA2      PCA3  \n",
       "0  0.343985  0.364978  0.444858  \n",
       "1  0.343985  0.364978  0.444858  \n",
       "2  0.343985  0.364978  0.444858  \n",
       "3  0.343985  0.364978  0.444858  \n",
       "4  0.343985  0.364978  0.444858  "
      ]
     },
     "execution_count": 19,
     "metadata": {},
     "output_type": "execute_result"
    }
   ],
   "source": [
    "data_scaled = pd.DataFrame(scaler.fit_transform(df))\n",
    "data_scaled.columns = df.columns\n",
    "data_scaled.head()"
   ]
  },
  {
   "cell_type": "code",
   "execution_count": 34,
   "metadata": {},
   "outputs": [],
   "source": [
    "X3 = data_scaled.drop(['UnemploymentRate', 'LHS', 'HS', 'SC', 'BD', 'RegionCode', 'Pop_Est'], axis=1)\n",
    "y3 = data_scaled.UnemploymentRate"
   ]
  },
  {
   "cell_type": "code",
   "execution_count": 21,
   "metadata": {},
   "outputs": [
    {
     "data": {
      "text/plain": [
       "<catboost.core.CatBoostRegressor at 0x1a1e3adef0>"
      ]
     },
     "execution_count": 21,
     "metadata": {},
     "output_type": "execute_result"
    }
   ],
   "source": [
    "# Split the data into training and test sets\n",
    "X_train3, X_test3, y_train3, y_test3 = train_test_split(X3, y3, test_size=0.3, random_state=10)\n",
    "\n",
    "# Fit the model to the training data\n",
    "cb_model.fit(X_train3, y_train3, eval_set=(X_test3, y_test3), verbose=False)"
   ]
  },
  {
   "cell_type": "code",
   "execution_count": 22,
   "metadata": {},
   "outputs": [
    {
     "name": "stdout",
     "output_type": "stream",
     "text": [
      "0.06800204062153359\n"
     ]
    }
   ],
   "source": [
    "y_pred3 = cb_model.predict(X_test3)\n",
    "print(mean_absolute_error(y_pred3, y_test3))"
   ]
  },
  {
   "cell_type": "markdown",
   "metadata": {},
   "source": [
    "### With this model, we get a mean absolute error of 0.068. Now I will tune the hyperparameters, and hopefully improve the model. "
   ]
  },
  {
   "cell_type": "code",
   "execution_count": 26,
   "metadata": {},
   "outputs": [
    {
     "name": "stdout",
     "output_type": "stream",
     "text": [
      "{'learning_rate': 0.05, 'iterations': 300, 'depth': 10}\n",
      "CPU times: user 1h 38min 15s, sys: 1h 9min 12s, total: 2h 47min 28s\n",
      "Wall time: 2h 18min 6s\n"
     ]
    }
   ],
   "source": [
    "%%time\n",
    "params = {\n",
    "    'iterations': [150, 200, 300],\n",
    "    'depth': [8,9,10],\n",
    "    'learning_rate':[0.05, 0.1, 0.2]\n",
    "    \n",
    "}\n",
    "\n",
    "n_iter_search=20\n",
    "\n",
    "cb_reg = CatBoostRegressor(loss_function='MAE')\n",
    "\n",
    "# Use a randomized search to find the optimal hyperparameters\n",
    "search_model = RandomizedSearchCV(cb_reg, param_distributions=params, n_iter=n_iter_search,\n",
    "                                 scoring='neg_mean_absolute_error', refit=True, random_state=20, cv=5)\n",
    "\n",
    "# Fit the model to the training data\n",
    "search_model.fit(X_train3, y_train3, verbose=False)\n",
    "\n",
    "\n",
    "cb_optimal_params = search_model.best_params_\n",
    "print(cb_optimal_params)"
   ]
  },
  {
   "cell_type": "code",
   "execution_count": 30,
   "metadata": {},
   "outputs": [
    {
     "data": {
      "text/plain": [
       "<catboost.core.CatBoostRegressor at 0x1c2310a710>"
      ]
     },
     "execution_count": 30,
     "metadata": {},
     "output_type": "execute_result"
    }
   ],
   "source": [
    "cb_model = CatBoostRegressor(loss_function='MAE', learning_rate=0.05, iterations=300, depth=10)\n",
    "cb_model.fit(X_train3, y_train3, verbose=False)"
   ]
  },
  {
   "cell_type": "code",
   "execution_count": 31,
   "metadata": {},
   "outputs": [
    {
     "name": "stdout",
     "output_type": "stream",
     "text": [
      "0.03331997749782088\n"
     ]
    }
   ],
   "source": [
    "cb_model_pred = cb_model.predict(X_test3)\n",
    "print(mean_absolute_error(cb_model_pred, y_test3))"
   ]
  },
  {
   "cell_type": "markdown",
   "metadata": {},
   "source": [
    "### After tuning the hyperparameters, I get a mean absolute error of 0.033. This is slightly higher than what I got with XGBoost, but still much better than the linear model. It appears that XGBoost results in the best model for this data.\n",
    "\n",
    "### The table below summarizes the results from each model."
   ]
  },
  {
   "cell_type": "markdown",
   "metadata": {},
   "source": [
    "|Model Type | Number of Features| MAE  |\n",
    "|-----------|-------------------|------|\n",
    "| Sklearn Linear    |    10             |0.069 |\n",
    "|-----------|-------------------|------|\n",
    "| XGBoost   |    10             |0.023 |\n",
    "|-----------|-------------------|------|\n",
    "| CatBoost  |    10             | 0.033|"
   ]
  }
 ],
 "metadata": {
  "kernelspec": {
   "display_name": "Python 3",
   "language": "python",
   "name": "python3"
  },
  "language_info": {
   "codemirror_mode": {
    "name": "ipython",
    "version": 3
   },
   "file_extension": ".py",
   "mimetype": "text/x-python",
   "name": "python",
   "nbconvert_exporter": "python",
   "pygments_lexer": "ipython3",
   "version": "3.7.1"
  }
 },
 "nbformat": 4,
 "nbformat_minor": 2
}
