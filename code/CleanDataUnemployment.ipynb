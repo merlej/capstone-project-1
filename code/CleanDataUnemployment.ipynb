{
 "cells": [
  {
   "cell_type": "code",
   "execution_count": 2,
   "metadata": {
    "collapsed": true
   },
   "outputs": [],
   "source": [
    "import pandas as pd\n",
    "import numpy as np\n",
    "import matplotlib.pyplot as plt\n",
    "import re"
   ]
  },
  {
   "cell_type": "code",
   "execution_count": 6,
   "metadata": {
    "collapsed": true
   },
   "outputs": [],
   "source": [
    "# Read the data into a dataframe\n",
    "raw_data = pd.read_csv('UnemploymentData.csv', index_col = 0).drop(0, axis=0)"
   ]
  },
  {
   "cell_type": "code",
   "execution_count": 3,
   "metadata": {
    "collapsed": true
   },
   "outputs": [],
   "source": [
    "#Set the index as the State and drop unwanted rows \n",
    "ue_data = raw_data.set_index('State')\n",
    "ue_data = ue_data.drop('PR', axis=0)\n",
    "ue_data = ue_data.reset_index()"
   ]
  },
  {
   "cell_type": "code",
   "execution_count": 4,
   "metadata": {
    "collapsed": true
   },
   "outputs": [],
   "source": [
    "# Create a list of the desired columns \n",
    "cols = []\n",
    "cols.append('State')\n",
    "cols.append('Area_name')\n",
    "cols.append('Median_Household_Income_2016')\n",
    "# Extract all the columns containing unemployment rates\n",
    "for i in ue_data.columns:\n",
    "    if 'Unemployment_rate' in i:\n",
    "        cols.append(i)"
   ]
  },
  {
   "cell_type": "code",
   "execution_count": 5,
   "metadata": {},
   "outputs": [
    {
     "data": {
      "text/plain": [
       "(3195, 51)"
      ]
     },
     "execution_count": 5,
     "metadata": {},
     "output_type": "execute_result"
    }
   ],
   "source": [
    "ue_data.shape"
   ]
  },
  {
   "cell_type": "code",
   "execution_count": 6,
   "metadata": {},
   "outputs": [
    {
     "data": {
      "text/html": [
       "<div>\n",
       "<style>\n",
       "    .dataframe thead tr:only-child th {\n",
       "        text-align: right;\n",
       "    }\n",
       "\n",
       "    .dataframe thead th {\n",
       "        text-align: left;\n",
       "    }\n",
       "\n",
       "    .dataframe tbody tr th {\n",
       "        vertical-align: top;\n",
       "    }\n",
       "</style>\n",
       "<table border=\"1\" class=\"dataframe\">\n",
       "  <thead>\n",
       "    <tr style=\"text-align: right;\">\n",
       "      <th></th>\n",
       "      <th>State</th>\n",
       "      <th>Area_name</th>\n",
       "      <th>Median_Household_Income_2016</th>\n",
       "      <th>Unemployment_rate_2007</th>\n",
       "      <th>Unemployment_rate_2008</th>\n",
       "      <th>Unemployment_rate_2009</th>\n",
       "      <th>Unemployment_rate_2010</th>\n",
       "      <th>Unemployment_rate_2011</th>\n",
       "      <th>Unemployment_rate_2012</th>\n",
       "      <th>Unemployment_rate_2013</th>\n",
       "      <th>Unemployment_rate_2014</th>\n",
       "      <th>Unemployment_rate_2015</th>\n",
       "      <th>Unemployment_rate_2016</th>\n",
       "      <th>Unemployment_rate_2017</th>\n",
       "    </tr>\n",
       "  </thead>\n",
       "  <tbody>\n",
       "    <tr>\n",
       "      <th>0</th>\n",
       "      <td>AL</td>\n",
       "      <td>Alabama</td>\n",
       "      <td>$46,309</td>\n",
       "      <td>4.0</td>\n",
       "      <td>5.7</td>\n",
       "      <td>11.0</td>\n",
       "      <td>10.5</td>\n",
       "      <td>9.6</td>\n",
       "      <td>8.0</td>\n",
       "      <td>7.2</td>\n",
       "      <td>6.8</td>\n",
       "      <td>6.0</td>\n",
       "      <td>5.9</td>\n",
       "      <td>4.4</td>\n",
       "    </tr>\n",
       "    <tr>\n",
       "      <th>1</th>\n",
       "      <td>AL</td>\n",
       "      <td>Autauga County, AL</td>\n",
       "      <td>$54,487</td>\n",
       "      <td>3.3</td>\n",
       "      <td>5.1</td>\n",
       "      <td>9.7</td>\n",
       "      <td>8.9</td>\n",
       "      <td>8.4</td>\n",
       "      <td>6.9</td>\n",
       "      <td>6.2</td>\n",
       "      <td>5.8</td>\n",
       "      <td>5.0</td>\n",
       "      <td>5.1</td>\n",
       "      <td>3.9</td>\n",
       "    </tr>\n",
       "    <tr>\n",
       "      <th>2</th>\n",
       "      <td>AL</td>\n",
       "      <td>Baldwin County, AL</td>\n",
       "      <td>$56,460</td>\n",
       "      <td>3.1</td>\n",
       "      <td>4.6</td>\n",
       "      <td>9.8</td>\n",
       "      <td>10.0</td>\n",
       "      <td>9.0</td>\n",
       "      <td>7.5</td>\n",
       "      <td>6.6</td>\n",
       "      <td>6.1</td>\n",
       "      <td>6.0</td>\n",
       "      <td>5.4</td>\n",
       "      <td>4.0</td>\n",
       "    </tr>\n",
       "    <tr>\n",
       "      <th>3</th>\n",
       "      <td>AL</td>\n",
       "      <td>Barbour County, AL</td>\n",
       "      <td>$32,884</td>\n",
       "      <td>6.3</td>\n",
       "      <td>8.8</td>\n",
       "      <td>14.3</td>\n",
       "      <td>12.3</td>\n",
       "      <td>11.5</td>\n",
       "      <td>11.5</td>\n",
       "      <td>10.2</td>\n",
       "      <td>10.5</td>\n",
       "      <td>9.0</td>\n",
       "      <td>8.4</td>\n",
       "      <td>5.9</td>\n",
       "    </tr>\n",
       "    <tr>\n",
       "      <th>4</th>\n",
       "      <td>AL</td>\n",
       "      <td>Bibb County, AL</td>\n",
       "      <td>$43,079</td>\n",
       "      <td>4.1</td>\n",
       "      <td>5.8</td>\n",
       "      <td>13.3</td>\n",
       "      <td>11.4</td>\n",
       "      <td>10.5</td>\n",
       "      <td>8.5</td>\n",
       "      <td>7.9</td>\n",
       "      <td>7.2</td>\n",
       "      <td>7.0</td>\n",
       "      <td>6.5</td>\n",
       "      <td>4.4</td>\n",
       "    </tr>\n",
       "  </tbody>\n",
       "</table>\n",
       "</div>"
      ],
      "text/plain": [
       "  State           Area_name Median_Household_Income_2016  \\\n",
       "0    AL             Alabama                     $46,309    \n",
       "1    AL  Autauga County, AL                     $54,487    \n",
       "2    AL  Baldwin County, AL                     $56,460    \n",
       "3    AL  Barbour County, AL                     $32,884    \n",
       "4    AL     Bibb County, AL                     $43,079    \n",
       "\n",
       "   Unemployment_rate_2007  Unemployment_rate_2008  Unemployment_rate_2009  \\\n",
       "0                     4.0                     5.7                    11.0   \n",
       "1                     3.3                     5.1                     9.7   \n",
       "2                     3.1                     4.6                     9.8   \n",
       "3                     6.3                     8.8                    14.3   \n",
       "4                     4.1                     5.8                    13.3   \n",
       "\n",
       "   Unemployment_rate_2010  Unemployment_rate_2011  Unemployment_rate_2012  \\\n",
       "0                    10.5                     9.6                     8.0   \n",
       "1                     8.9                     8.4                     6.9   \n",
       "2                    10.0                     9.0                     7.5   \n",
       "3                    12.3                    11.5                    11.5   \n",
       "4                    11.4                    10.5                     8.5   \n",
       "\n",
       "   Unemployment_rate_2013  Unemployment_rate_2014  Unemployment_rate_2015  \\\n",
       "0                     7.2                     6.8                     6.0   \n",
       "1                     6.2                     5.8                     5.0   \n",
       "2                     6.6                     6.1                     6.0   \n",
       "3                    10.2                    10.5                     9.0   \n",
       "4                     7.9                     7.2                     7.0   \n",
       "\n",
       "   Unemployment_rate_2016  Unemployment_rate_2017  \n",
       "0                     5.9                     4.4  \n",
       "1                     5.1                     3.9  \n",
       "2                     5.4                     4.0  \n",
       "3                     8.4                     5.9  \n",
       "4                     6.5                     4.4  "
      ]
     },
     "execution_count": 6,
     "metadata": {},
     "output_type": "execute_result"
    }
   ],
   "source": [
    "# Drop rows containing null values\n",
    "ue_data = ue_data[cols].dropna(how='any')\n",
    "ue_data.head()"
   ]
  },
  {
   "cell_type": "code",
   "execution_count": 7,
   "metadata": {
    "collapsed": true
   },
   "outputs": [],
   "source": [
    "# Rename the columns\n",
    "ue_data.columns = ['State', 'Area', 'MedianIncome2016', '2007', '2008', '2009', '2010', '2011', '2012', '2013', '2014',\n",
    "                  '2015', '2016', '2017']"
   ]
  },
  {
   "cell_type": "code",
   "execution_count": 8,
   "metadata": {
    "collapsed": true
   },
   "outputs": [],
   "source": [
    "# Convert the median income to int values\n",
    "m = []\n",
    "for val in ue_data.MedianIncome2016:\n",
    "    val = str(val)\n",
    "    newval = re.sub(r'\\D', \"\", val) # remove non-digits\n",
    "    m.append(int(newval))\n",
    "\n",
    "income = pd.Series(m)\n",
    "ue_data.MedianIncome2016 = income"
   ]
  },
  {
   "cell_type": "code",
   "execution_count": 9,
   "metadata": {
    "collapsed": true
   },
   "outputs": [],
   "source": [
    "stacked_data = ue_data.set_index(['State', 'Area', 'MedianIncome2016']).stack()"
   ]
  },
  {
   "cell_type": "code",
   "execution_count": 10,
   "metadata": {
    "collapsed": true
   },
   "outputs": [],
   "source": [
    "# Stack the data so that there is only one column for the unemployment rate and one column for the year\n",
    "stacked_data = stacked_data.reset_index()\n",
    "stacked_data.columns = ['State' ,'Area', 'MedianIncome2016', 'Year', 'UnemploymentRate']"
   ]
  },
  {
   "cell_type": "code",
   "execution_count": 11,
   "metadata": {
    "collapsed": true
   },
   "outputs": [],
   "source": [
    "# Set the median income value to null for all years other than 2016, since we have only data for 2016\n",
    "new_vals = []\n",
    "for i in stacked_data.index:\n",
    "    if str(stacked_data.Year[i]) == '2016':\n",
    "        new_vals.append(stacked_data.MedianIncome2016[i])\n",
    "    else:\n",
    "        new_vals.append(np.nan)\n",
    "        \n",
    "stacked_data.MedianIncome2016 = new_vals"
   ]
  },
  {
   "cell_type": "code",
   "execution_count": 12,
   "metadata": {
    "collapsed": true
   },
   "outputs": [],
   "source": [
    "# Regions of the U.S.\n",
    "L1 = ['CT', 'ME', 'MA', 'NH', 'RI', 'VT', 'NJ', 'NY', 'PA']\n",
    "L2 = ['DE','FL', 'GA', 'MD', 'NC', 'SC', 'VA', 'DC', 'WV', 'AL', 'KY', 'TN', 'LA', 'OK', 'TX', 'MS', 'AR']\n",
    "L3 = ['IL', 'IN', 'MI', 'OH', 'WI', 'IA', 'KS', 'MN', 'MO', 'NE', 'ND', 'SD']\n",
    "L4 = ['AZ', 'CO', 'ID', 'MT', 'NV', 'NM', 'UT', 'WY', 'AK', 'CA', 'HI', 'OR', 'WA']"
   ]
  },
  {
   "cell_type": "code",
   "execution_count": 13,
   "metadata": {
    "collapsed": true
   },
   "outputs": [],
   "source": [
    "# Create a column for the region\n",
    "region = []\n",
    "for i in stacked_data.index:\n",
    "    if str(stacked_data.State[i]) in L1:\n",
    "        region.append('Northeast')\n",
    "    elif str(stacked_data.State[i]) in L2:\n",
    "        region.append('South')\n",
    "    elif str(stacked_data.State[i]) in L3:\n",
    "        region.append('Midwest')\n",
    "    elif str(stacked_data.State[i]) in L4:\n",
    "        region.append('West')\n",
    "    else:\n",
    "        region.append(np.nan)\n",
    "        \n",
    "region = pd.Series(region)\n",
    "stacked_data['Region'] = region.values"
   ]
  },
  {
   "cell_type": "code",
   "execution_count": 14,
   "metadata": {
    "collapsed": true
   },
   "outputs": [],
   "source": [
    "area = []\n",
    "for i in stacked_data.index:\n",
    "    a = stacked_data.Area[i]\n",
    "    s = a.split(',')\n",
    "    area.append(s[0])"
   ]
  },
  {
   "cell_type": "code",
   "execution_count": 15,
   "metadata": {
    "collapsed": true
   },
   "outputs": [],
   "source": [
    "stacked_data.Area = area"
   ]
  },
  {
   "cell_type": "code",
   "execution_count": 16,
   "metadata": {
    "collapsed": true
   },
   "outputs": [],
   "source": [
    "stacked_data.to_csv('CleanDataUnemployment.csv')"
   ]
  },
  {
   "cell_type": "code",
   "execution_count": null,
   "metadata": {
    "collapsed": true
   },
   "outputs": [],
   "source": []
  },
  {
   "cell_type": "code",
   "execution_count": null,
   "metadata": {
    "collapsed": true
   },
   "outputs": [],
   "source": []
  },
  {
   "cell_type": "code",
   "execution_count": null,
   "metadata": {
    "collapsed": true
   },
   "outputs": [],
   "source": []
  },
  {
   "cell_type": "code",
   "execution_count": null,
   "metadata": {
    "collapsed": true
   },
   "outputs": [],
   "source": []
  }
 ],
 "metadata": {
  "kernelspec": {
   "display_name": "Python 3",
   "language": "python",
   "name": "python3"
  },
  "language_info": {
   "codemirror_mode": {
    "name": "ipython",
    "version": 3
   },
   "file_extension": ".py",
   "mimetype": "text/x-python",
   "name": "python",
   "nbconvert_exporter": "python",
   "pygments_lexer": "ipython3",
   "version": "3.7.1"
  }
 },
 "nbformat": 4,
 "nbformat_minor": 2
}
